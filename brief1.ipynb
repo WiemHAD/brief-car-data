{
 "cells": [
  {
   "cell_type": "markdown",
   "metadata": {},
   "source": [
    "#1. La récupération des données"
   ]
  },
  {
   "cell_type": "code",
   "execution_count": 1,
   "metadata": {},
   "outputs": [
    {
     "name": "stdout",
     "output_type": "stream",
     "text": [
      "<class 'pandas.core.frame.DataFrame'> \n",
      "\n"
     ]
    }
   ],
   "source": [
    "import pandas as pd\n",
    "\n",
    "car_data = pd.read_csv(\"carData.csv\") #affectation de BDD à la variable car_data\n",
    "print(type(car_data), '\\n') #la variable car_data est bien un DataFrame"
   ]
  },
  {
   "cell_type": "markdown",
   "metadata": {},
   "source": [
    "#2. Exploration des données"
   ]
  },
  {
   "cell_type": "code",
   "execution_count": 2,
   "metadata": {},
   "outputs": [
    {
     "name": "stdout",
     "output_type": "stream",
     "text": [
      "la taille de la BDD est:\n",
      " (301, 9) \n",
      "\n",
      "Voici les 5 premières lignes de la BDD:\n",
      "   Car_Name  Year  Selling_Price  Present_Price  Kms_Driven Fuel_Type  \\\n",
      "0     ritz  2014           3.35           5.59       27000    Petrol   \n",
      "1      sx4  2013           4.75           9.54       43000    Diesel   \n",
      "2     ciaz  2017           7.25           9.85        6900    Petrol   \n",
      "3  wagon r  2011           2.85           4.15        5200    Petrol   \n",
      "4    swift  2014           4.60           6.87       42450    Diesel   \n",
      "\n",
      "  Seller_Type Transmission  Owner  \n",
      "0      Dealer       Manual      0  \n",
      "1      Dealer       Manual      0  \n",
      "2      Dealer       Manual      0  \n",
      "3      Dealer       Manual      0  \n",
      "4      Dealer       Manual      0   \n",
      "\n",
      "Voici les 5 dernières lignes de la BDD:\n",
      "     Car_Name  Year  Selling_Price  Present_Price  Kms_Driven Fuel_Type  \\\n",
      "296     city  2016           9.50           11.6       33988    Diesel   \n",
      "297     brio  2015           4.00            5.9       60000    Petrol   \n",
      "298     city  2009           3.35           11.0       87934    Petrol   \n",
      "299     city  2017          11.50           12.5        9000    Diesel   \n",
      "300     brio  2016           5.30            5.9        5464    Petrol   \n",
      "\n",
      "    Seller_Type Transmission  Owner  \n",
      "296      Dealer       Manual      0  \n",
      "297      Dealer       Manual      0  \n",
      "298      Dealer       Manual      0  \n",
      "299      Dealer       Manual      0  \n",
      "300      Dealer       Manual      0   \n",
      "\n"
     ]
    }
   ],
   "source": [
    "size = car_data.shape #affiche le nombre de colonnes et de lignes\n",
    "print('la taille de la BDD est:\\n', size, '\\n')\n",
    "\n",
    "car_data_head = car_data.head(5) #affiche les 5 premieres lignes \n",
    "print('Voici les 5 premières lignes de la BDD:\\n', car_data_head, '\\n')\n",
    "\n",
    "car_data_tail = car_data.tail(5) #affiche les 5 dernieres lignes\n",
    "print('Voici les 5 dernières lignes de la BDD:\\n', car_data_tail, '\\n')"
   ]
  },
  {
   "cell_type": "code",
   "execution_count": null,
   "metadata": {},
   "outputs": [],
   "source": [
    "#Calcul des statistiques de base:"
   ]
  },
  {
   "cell_type": "code",
   "execution_count": 3,
   "metadata": {},
   "outputs": [
    {
     "name": "stdout",
     "output_type": "stream",
     "text": [
      "              Year  Selling_Price  Present_Price     Kms_Driven       Owner\n",
      "count   301.000000     301.000000     301.000000     301.000000  301.000000\n",
      "mean   2013.627907       4.661296       7.628472   36947.205980    0.043189\n",
      "std       2.891554       5.082812       8.644115   38886.883882    0.247915\n",
      "min    2003.000000       0.100000       0.320000     500.000000    0.000000\n",
      "25%    2012.000000       0.900000       1.200000   15000.000000    0.000000\n",
      "50%    2014.000000       3.600000       6.400000   32000.000000    0.000000\n",
      "75%    2016.000000       6.000000       9.900000   48767.000000    0.000000\n",
      "max    2018.000000      35.000000      92.600000  500000.000000    3.000000\n"
     ]
    }
   ],
   "source": [
    "df = pd.DataFrame(car_data)\n",
    "print(df.describe())"
   ]
  },
  {
   "cell_type": "code",
   "execution_count": null,
   "metadata": {},
   "outputs": [],
   "source": [
    "#traçage de la distribution avec matpotlib"
   ]
  },
  {
   "cell_type": "code",
   "execution_count": 4,
   "metadata": {
    "scrolled": true
   },
   "outputs": [
    {
     "data": {
      "text/plain": [
       "Text(0.5, 1.0, 'La distribution du prix des voitures en fonction de son année de sortie')"
      ]
     },
     "execution_count": 4,
     "metadata": {},
     "output_type": "execute_result"
    },
    {
     "data": {
      "image/png": "[encoded data removed]",
      "text/plain": [
       "<Figure size 432x288 with 1 Axes>"
      ]
     },
     "metadata": {
      "needs_background": "light"
     },
     "output_type": "display_data"
    }
   ],
   "source": [
    "import matplotlib.pyplot as plt\n",
    "x = car_data.Year\n",
    "y = car_data.Selling_Price\n",
    "plt.bar(x,y, align=\"center\", facecolor=\"green\")\n",
    "plt.title('La distribution du prix des voitures en fonction de son année de sortie')"
   ]
  },
  {
   "cell_type": "markdown",
   "metadata": {},
   "source": [
    "La bibliothèque matpotlib nous a permis de shématiser l'évolution du prix des voitures en fonction de l'année de sortie. on voit clairement que les voitures sorties en 2010 récoltent le prix de vente le plus chèr, suivis par celle sorties en 2017. Quelles sont les raisons derrière ce phénomène? il sera intéressent d'étudier le nombre et les propriètés des voitures sorties en 2010 et 2017. "
   ]
  },
  {
   "cell_type": "markdown",
   "metadata": {},
   "source": [
    "#3. Chargement de la BDD dans un fichier MySQL"
   ]
  },
  {
   "cell_type": "code",
   "execution_count": 5,
   "metadata": {
    "scrolled": false
   },
   "outputs": [
    {
     "name": "stdout",
     "output_type": "stream",
     "text": [
      "      index Car_Name  Year  Selling_Price  Present_Price  Kms_Driven  \\\n",
      "0         0     ritz  2014           3.35           5.59       27000   \n",
      "1         1      sx4  2013           4.75           9.54       43000   \n",
      "2         2     ciaz  2017           7.25           9.85        6900   \n",
      "3         3  wagon r  2011           2.85           4.15        5200   \n",
      "4         4    swift  2014           4.60           6.87       42450   \n",
      "...     ...      ...   ...            ...            ...         ...   \n",
      "4811    296     city  2016           9.50          11.60       33988   \n",
      "4812    297     brio  2015           4.00           5.90       60000   \n",
      "4813    298     city  2009           3.35          11.00       87934   \n",
      "4814    299     city  2017          11.50          12.50        9000   \n",
      "4815    300     brio  2016           5.30           5.90        5464   \n",
      "\n",
      "     Fuel_Type Seller_Type Transmission  Owner  \n",
      "0       Petrol      Dealer       Manual      0  \n",
      "1       Diesel      Dealer       Manual      0  \n",
      "2       Petrol      Dealer       Manual      0  \n",
      "3       Petrol      Dealer       Manual      0  \n",
      "4       Diesel      Dealer       Manual      0  \n",
      "...        ...         ...          ...    ...  \n",
      "4811    Diesel      Dealer       Manual      0  \n",
      "4812    Petrol      Dealer       Manual      0  \n",
      "4813    Petrol      Dealer       Manual      0  \n",
      "4814    Diesel      Dealer       Manual      0  \n",
      "4815    Petrol      Dealer       Manual      0  \n",
      "\n",
      "[4816 rows x 10 columns]\n"
     ]
    }
   ],
   "source": [
    "import pymysql \n",
    "from sqlalchemy import create_engine \n",
    "engine = create_engine('mysql+pymysql://root:@localhost/car_Data')\n",
    "car_data.to_sql('buycar', con=engine, if_exists='append')\n",
    "car_data2 = pd.read_sql_table('buycar', con=engine)\n",
    "print(car_data2)"
   ]
  },
  {
   "cell_type": "markdown",
   "metadata": {},
   "source": [
    "#affichage des informations de base de la nouvelle BDD"
   ]
  },
  {
   "cell_type": "code",
   "execution_count": 6,
   "metadata": {},
   "outputs": [
    {
     "name": "stdout",
     "output_type": "stream",
     "text": [
      "<class 'pandas.core.frame.DataFrame'>\n",
      "RangeIndex: 4816 entries, 0 to 4815\n",
      "Data columns (total 10 columns):\n",
      " #   Column         Non-Null Count  Dtype  \n",
      "---  ------         --------------  -----  \n",
      " 0   index          4816 non-null   int64  \n",
      " 1   Car_Name       4816 non-null   object \n",
      " 2   Year           4816 non-null   int64  \n",
      " 3   Selling_Price  4816 non-null   float64\n",
      " 4   Present_Price  4816 non-null   float64\n",
      " 5   Kms_Driven     4816 non-null   int64  \n",
      " 6   Fuel_Type      4816 non-null   object \n",
      " 7   Seller_Type    4816 non-null   object \n",
      " 8   Transmission   4816 non-null   object \n",
      " 9   Owner          4816 non-null   int64  \n",
      "dtypes: float64(2), int64(4), object(4)\n",
      "memory usage: 376.4+ KB\n"
     ]
    }
   ],
   "source": [
    "car_data2.info()"
   ]
  },
  {
   "cell_type": "markdown",
   "metadata": {},
   "source": [
    "En affichant la nouvelle BDD car_data2, on retrouve les différentes colonnes avec les même attributs que la BDD initiale. Ceci est également vrai pour les différents types des attributs. "
   ]
  },
  {
   "cell_type": "markdown",
   "metadata": {},
   "source": [
    "##4. Traçage des données avec Seaborn"
   ]
  },
  {
   "cell_type": "code",
   "execution_count": 8,
   "metadata": {},
   "outputs": [
    {
     "data": {
      "text/plain": [
       "Text(0.5, 1.0, 'fig2=l évolution du prix de vente en fonction de l année de sortie des voitures')"
      ]
     },
     "execution_count": 8,
     "metadata": {},
     "output_type": "execute_result"
    },
    {
     "data": {
      "image/png": "[encoded data removed]",
      "text/plain": [
       "<Figure size 360x360 with 1 Axes>"
      ]
     },
     "metadata": {
      "needs_background": "light"
     },
     "output_type": "display_data"
    },
    {
     "data": {
      "image/png": "[encoded data removed]",
      "text/plain": [
       "<Figure size 360x360 with 1 Axes>"
      ]
     },
     "metadata": {
      "needs_background": "light"
     },
     "output_type": "display_data"
    }
   ],
   "source": [
    "import seaborn as sns\n",
    "sns.catplot(x='Kms_Driven', y='Selling_Price', data=car_data2)\n",
    "plt.title('fig1=l évolution du prix de vente en fonction du nombre de Km parcourus')\n",
    "sns.catplot(x='Year', y='Selling_Price', data=car_data2)\n",
    "plt.title('fig2=l évolution du prix de vente en fonction de l année de sortie des voitures')"
   ]
  },
  {
   "cell_type": "markdown",
   "metadata": {},
   "source": [
    "fig1: sur cet illustration, on voit que le nuage de points representant le lien entre le prix de vente et le nombre de Km parcourus est assez dispercé. A premier vue, le corrélation entre ces 2 paramètres n'est pas linéaire. \n",
    "fig2: cette representation montre un nuage de points plutôt régulier et en cohérence avec la figure obtenue via matpotlib, avec en plus quelques valeurs dispérsées. "
   ]
  },
  {
   "cell_type": "markdown",
   "metadata": {},
   "source": [
    "#5 Régression linéaire avec numpy"
   ]
  },
  {
   "cell_type": "code",
   "execution_count": 9,
   "metadata": {},
   "outputs": [
    {
     "data": {
      "text/plain": [
       "[<matplotlib.lines.Line2D at 0x7fb39a4d4700>]"
      ]
     },
     "execution_count": 9,
     "metadata": {},
     "output_type": "execute_result"
    },
    {
     "data": {
      "image/png": "[encoded data removed]",
      "text/plain": [
       "<Figure size 432x288 with 1 Axes>"
      ]
     },
     "metadata": {
      "needs_background": "light"
     },
     "output_type": "display_data"
    }
   ],
   "source": [
    "import numpy as np\n",
    "\n",
    "x = car_data2['Year']\n",
    "y = car_data2['Selling_Price']\n",
    "\n",
    "a = np.polyfit(x,y,1) \n",
    "b = np.poly1d(a)\n",
    "\n",
    "plt.scatter(x,y)\n",
    "plt.plot(x,b(x),\"y\")"
   ]
  },
  {
   "cell_type": "markdown",
   "metadata": {},
   "source": [
    "#Regression linéaire avec Scipy"
   ]
  },
  {
   "cell_type": "code",
   "execution_count": 15,
   "metadata": {},
   "outputs": [
    {
     "name": "stdout",
     "output_type": "stream",
     "text": [
      "LinregressResult(slope=0.4150916946355385, intercept=-831.1789245913261, rvalue=0.23614098016042706, pvalue=5.0870386458765075e-62, stderr=0.024618423994448357)\n"
     ]
    }
   ],
   "source": [
    "import scipy\n",
    "from scipy.stats import linregress\n",
    "\n",
    "x = car_data2['Year']\n",
    "y = car_data2['Selling_Price']\n",
    "\n",
    "lr = scipy.stats.linregress(x,y)\n",
    "print(lr)"
   ]
  },
  {
   "cell_type": "markdown",
   "metadata": {},
   "source": [
    "#Regression Lineaire avec SKlearn"
   ]
  },
  {
   "cell_type": "code",
   "execution_count": null,
   "metadata": {},
   "outputs": [],
   "source": [
    "from sklearn import linear_model\n",
    "\n",
    "X = car_data2[['Year']]\n",
    "Y = car_data2['Selling_Price']\n",
    "\n",
    "model = linear_model.LinearRegression()\n",
    "results = model.fit(X, Y)\n",
    "print(results.coef_)\n",
    "print(results.intercept_)\n",
    "\n",
    "def sklfunc(k):\n",
    " return results.coef_ * k + results.intercept_\n",
    "sns.scatterplot(x,y) \n",
    "plt.plot(x,sklfunc(x),'red')"
   ]
  },
  {
   "cell_type": "markdown",
   "metadata": {},
   "source": [
    "#Classe/formule de regression linéaire"
   ]
  },
  {
   "cell_type": "code",
   "execution_count": null,
   "metadata": {},
   "outputs": [],
   "source": [
    "x = car_data2['Year']\n",
    "y = car_data2['Selling_Price']\n",
    "\n",
    "class LineReg:\n",
    "    def __init__(self, x, y):\n",
    "        self.x = x\n",
    "        self.y = y\n",
    "        \n",
    "    def func(self):\n",
    "        \n",
    "        xmean = self.x.mean()\n",
    "        ymean = self.y.mean()\n",
    "        \n",
    "        xvariance = sum([(j-xmean)**2 for j in self.x])\n",
    "\n",
    "        xycovariance = 0\n",
    "        for i in range(len(x)):\n",
    "            xycovariance +=(self.x[i]-xmean)*(self.y[i]-xmean)\n",
    "            \n",
    "        a = xycovariance / xvariance\n",
    "        b = ymean - a * xmean\n",
    "        return(a,b)\n",
    "lr = LineReg(x,y)\n",
    "a, b = lr.func()\n",
    "print('a =', a, 'b=', b)\n",
    "\n",
    "x1= input('Merci de renseigner l année')\n",
    "x1= float(x1)\n",
    "y1= x1 * a + b \n",
    "def predict(x1):\n",
    "    x1= input('Merci de renseigner l année')\n",
    "    y1= x1 * a + b \n",
    "    return (y1)\n",
    "print('le prix de vente d une voiture de', x1, 'est de', y1)"
   ]
  }
 ],
 "metadata": {
  "kernelspec": {
   "display_name": "Python 3",
   "language": "python",
   "name": "python3"
  },
  "language_info": {
   "codemirror_mode": {
    "name": "ipython",
    "version": 3
   },
   "file_extension": ".py",
   "mimetype": "text/x-python",
   "name": "python",
   "nbconvert_exporter": "python",
   "pygments_lexer": "ipython3",
   "version": "3.8.3"
  }
 },
 "nbformat": 4,
 "nbformat_minor": 4
}
